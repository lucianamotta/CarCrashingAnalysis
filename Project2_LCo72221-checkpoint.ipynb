{
 "cells": [
  {
   "cell_type": "markdown",
   "id": "82058692",
   "metadata": {},
   "source": [
    "# 1 - Title, Name and References\n",
    "\n",
    "CSIS 3290 – 002 – Project 2    \n",
    "\n",
    "Name: Luciana Motta Coelho\n",
    "\n",
    "Student ID: 300372221\n",
    "\n",
    "References:\n",
    "\n",
    "Additional Modules:\n",
    "\n",
    "\n"
   ]
  },
  {
   "cell_type": "markdown",
   "id": "689ca854",
   "metadata": {},
   "source": [
    "# 2 - About Dataset\n",
    "\n",
    "The dataset that was used in this project, was downloaded by the governmental USA site, called DATA.GOV.\n",
    "link: https://catalog.data.gov/dataset/motor-vehicle-collisions-crashes\n",
    "\n",
    "In the past, only information about collisions where someone is injured or killed, or where there is at least $1000 worth of damage, were recorded.\n",
    "\n",
    "Now, every traffic crash is electronical registered and one dataset is saved. In this dataset, is possible to find informations about every traffic crash in New York City since january 2016 until december 2021, this information were registered electronically in a system called Finest Online Records Management System (FORMS) and can be used in the future for safety analyses."
   ]
  },
  {
   "cell_type": "markdown",
   "id": "8a3712a8",
   "metadata": {},
   "source": [
    "# 3 - About the problem\n",
    "\n",
    "My main objective is identify padrons in the collision crashes dataset, for example, if determinated car type has more chance to be involved in a car crash, in each neighborhood has more colisions, is there a relation between the hour and the car crash happening, etc."
   ]
  },
  {
   "cell_type": "markdown",
   "id": "38b0391e",
   "metadata": {},
   "source": [
    "# 4 - Data wrangling and transformation"
   ]
  },
  {
   "cell_type": "markdown",
   "id": "fc2d1811",
   "metadata": {},
   "source": [
    "# 5 - EDA"
   ]
  },
  {
   "cell_type": "markdown",
   "id": "c29619d2",
   "metadata": {},
   "source": [
    "# 6 - Feature engineering"
   ]
  }
 ],
 "metadata": {
  "kernelspec": {
   "display_name": "Python 3 (ipykernel)",
   "language": "python",
   "name": "python3"
  },
  "language_info": {
   "codemirror_mode": {
    "name": "ipython",
    "version": 3
   },
   "file_extension": ".py",
   "mimetype": "text/x-python",
   "name": "python",
   "nbconvert_exporter": "python",
   "pygments_lexer": "ipython3",
   "version": "3.10.9"
  }
 },
 "nbformat": 4,
 "nbformat_minor": 5
}
